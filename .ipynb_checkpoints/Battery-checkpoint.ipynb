{
  "nbformat": 4,
  "nbformat_minor": 0,
  "metadata": {
    "colab": {
      "name": "Battery.ipynb",
      "provenance": [],
      "collapsed_sections": [],
      "toc_visible": true,
      "include_colab_link": true
    },
    "kernelspec": {
      "name": "python3",
      "display_name": "Python 3"
    },
    "accelerator": "GPU"
  },
  "cells": [
    {
      "cell_type": "markdown",
      "metadata": {
        "id": "view-in-github",
        "colab_type": "text"
      },
      "source": [
        "<a href=\"https://colab.research.google.com/github/psanabriaUC/BatteryDatasetImplementation/blob/master/Battery.ipynb\" target=\"_parent\"><img src=\"https://colab.research.google.com/assets/colab-badge.svg\" alt=\"Open In Colab\"/></a>"
      ]
    },
    {
      "cell_type": "markdown",
      "metadata": {
        "id": "KA-ud0ZCYkSt",
        "colab_type": "text"
      },
      "source": [
        "# Manual de preparación y uso del modelo de *Deep Learning* para prediccion del SoH de la batería\n",
        "En este Python Notebook se muestra y se analiza como debe ser tratado el dataset de carga/descarga de baterias obtenido de la NASA. Igualmente se muestra\n",
        "como se prepara el modelo propuesto por [1] y [2] y su encoding necesario para ser utilizado\n",
        "\n",
        "## Requisitos\n",
        "Para la fase de entrenamiento de este modelo es necesario tener instalado Python 3.x junto a las siguientes librerías:\n",
        "\n",
        "* Tensorflow 2.0\n",
        "* Numpy\n",
        "* Pandas\n",
        "* Scipy\n",
        "* Sci-kit learn\n",
        "* Matplot\n",
        "* Seaborn\n",
        "\n",
        "Para la fase de predicción de este modelo es necesario tener las mismas librerías con la excepción a Matplot y Seaborn\n",
        "\n",
        "\n",
        "## Preparación del dataset\n",
        "Debido a que este manual se trabajó desde Google Colab (esto puede no ser necesario hacerlo en un entorno offline), es necesario descargar el dataset y después descomprimirlo en un directorio especifico."
      ]
    },
    {
      "cell_type": "code",
      "metadata": {
        "id": "RR0daHVBsGHU",
        "colab_type": "code",
        "outputId": "70173b00-de0c-4681-e41b-53d27245b302",
        "colab": {
          "base_uri": "https://localhost:8080/",
          "height": 215
        }
      },
      "source": [
        "%tensorflow_version 2.x\n",
        "%matplotlib inline\n",
        "!pip show tensorflow\n",
        "!wget -cq https://ti.arc.nasa.gov/c/5 -O naza.zip\n",
        "!unzip -qqo naza.zip -d battery_data"
      ],
      "execution_count": 1,
      "outputs": [
        {
          "output_type": "stream",
          "text": [
            "TensorFlow 2.x selected.\n",
            "Name: tensorflow\n",
            "Version: 2.1.0rc1\n",
            "Summary: TensorFlow is an open source machine learning framework for everyone.\n",
            "Home-page: https://www.tensorflow.org/\n",
            "Author: Google Inc.\n",
            "Author-email: packages@tensorflow.org\n",
            "License: Apache 2.0\n",
            "Location: /tensorflow-2.1.0/python3.6\n",
            "Requires: six, numpy, google-pasta, gast, tensorboard, tensorflow-estimator, termcolor, absl-py, protobuf, keras-preprocessing, grpcio, astor, wrapt, opt-einsum, keras-applications, wheel\n",
            "Required-by: stable-baselines, magenta, fancyimpute\n"
          ],
          "name": "stdout"
        }
      ]
    },
    {
      "cell_type": "markdown",
      "metadata": {
        "id": "jFaLFIu1BDzT",
        "colab_type": "text"
      },
      "source": [
        "## Importación de librerías\n",
        "En esta parte se important todas las librerías necesarias para el tratamiento del dataset"
      ]
    },
    {
      "cell_type": "code",
      "metadata": {
        "id": "L8OwoPz1th2h",
        "colab_type": "code",
        "colab": {}
      },
      "source": [
        "import datetime\n",
        "import numpy as np\n",
        "import pandas as pd\n",
        "from scipy.io import loadmat\n",
        "from sklearn.preprocessing import MinMaxScaler\n",
        "from sklearn.metrics import mean_squared_error\n",
        "from sklearn import metrics\n",
        "import matplotlib.pyplot as plt\n",
        "import seaborn as sns"
      ],
      "execution_count": 0,
      "outputs": []
    },
    {
      "cell_type": "markdown",
      "metadata": {
        "id": "Lhg6ixxGBQfi",
        "colab_type": "text"
      },
      "source": [
        "## Carga del dataset en memoria\n",
        "Segun el README del dataset, los datos estan almacenados en varios archivos \".mat\", cada archivo corresponde a una batería en concreto y la estructura de los datos de cada archivo es la siguiente (copiado desde el README del dataset):\n",
        "\n",
        "```\n",
        "Data Structure:\n",
        "cycle:\ttop level structure array containing the charge, discharge and impedance operations\n",
        "\ttype: \toperation  type, can be charge, discharge or impedance\n",
        "\tambient_temperature:\tambient temperature (degree C)\n",
        "\ttime: \tthe date and time of the start of the cycle, in MATLAB  date vector format\n",
        "\tdata:\tdata structure containing the measurements\n",
        "\t   for charge the fields are:\n",
        "\t\tVoltage_measured: \tBattery terminal voltage (Volts)\n",
        "\t\tCurrent_measured:\tBattery output current (Amps)\n",
        "\t\tTemperature_measured: \tBattery temperature (degree C)\n",
        "\t\tCurrent_charge:\t\tCurrent measured at charger (Amps)\n",
        "\t\tVoltage_charge:\t\tVoltage measured at charger (Volts)\n",
        "\t\tTime:\t\t\tTime vector for the cycle (secs)\n",
        "\t   for discharge the fields are:\n",
        "\t\tVoltage_measured: \tBattery terminal voltage (Volts)\n",
        "\t\tCurrent_measured:\tBattery output current (Amps)\n",
        "\t\tTemperature_measured: \tBattery temperature (degree C)\n",
        "\t\tCurrent_charge:\t\tCurrent measured at load (Amps)\n",
        "\t\tVoltage_charge:\t\tVoltage measured at load (Volts)\n",
        "\t\tTime:\t\t\tTime vector for the cycle (secs)\n",
        "\t\tCapacity:\t\tBattery capacity (Ahr) for discharge till 2.7V \n",
        "\t   for impedance the fields are:\n",
        "\t\tSense_current:\t\tCurrent in sense branch (Amps)\n",
        "\t\tBattery_current:\tCurrent in battery branch (Amps)\n",
        "\t\tCurrent_ratio:\t\tRatio of the above currents \n",
        "\t\tBattery_impedance:\tBattery impedance (Ohms) computed from raw data\n",
        "\t\tRectified_impedance:\tCalibrated and smoothed battery impedance (Ohms) \n",
        "\t\tRe:\t\t\tEstimated electrolyte resistance (Ohms)\n",
        "\t\tRct:\t\t\tEstimated charge transfer resistance (Ohms)\n",
        "\n",
        "```\n",
        "\n",
        "Para el modelo de Deep Learning propuesto en [1] solo es necesario recabar los datos relacionados a la descarga de la bateria, para esto se crea una función en Python que se encarga de leer estos datos del archivo \".mat\" y almacenarlo en memoria en dos DataFrame de pandas para su posterior acceso.\n",
        "Después de la carga del dataset se hace una descripción de los datos usando funciones de panda para verificar si la carga de datos fue correcta."
      ]
    },
    {
      "cell_type": "code",
      "metadata": {
        "id": "HXC7-1FhY1_k",
        "colab_type": "code",
        "outputId": "c3bd647e-6c5b-407c-b9e7-5cb8fc91f3fd",
        "colab": {
          "base_uri": "https://localhost:8080/",
          "height": 567
        }
      },
      "source": [
        "def load_data(battery):\n",
        "  mat = loadmat('battery_data/' + battery + '.mat')\n",
        "  print('Total data in dataset: ', len(mat[battery][0, 0]['cycle'][0]))\n",
        "  counter = 0\n",
        "  dataset = []\n",
        "  capacity_data = []\n",
        "  \n",
        "  for i in range(len(mat[battery][0, 0]['cycle'][0])):\n",
        "    row = mat[battery][0, 0]['cycle'][0, i]\n",
        "    if row['type'][0] == 'discharge':\n",
        "      ambient_temperature = row['ambient_temperature'][0][0]\n",
        "      date_time = datetime.datetime(int(row['time'][0][0]),\n",
        "                               int(row['time'][0][1]),\n",
        "                               int(row['time'][0][2]),\n",
        "                               int(row['time'][0][3]),\n",
        "                               int(row['time'][0][4])) + datetime.timedelta(seconds=int(row['time'][0][5]))\n",
        "      data = row['data']\n",
        "      capacity = data[0][0]['Capacity'][0][0]\n",
        "      for j in range(len(data[0][0]['Voltage_measured'][0])):\n",
        "        voltage_measured = data[0][0]['Voltage_measured'][0][j]\n",
        "        current_measured = data[0][0]['Current_measured'][0][j]\n",
        "        temperature_measured = data[0][0]['Temperature_measured'][0][j]\n",
        "        current_load = data[0][0]['Current_load'][0][j]\n",
        "        voltage_load = data[0][0]['Voltage_load'][0][j]\n",
        "        time = data[0][0]['Time'][0][j]\n",
        "        dataset.append([counter + 1, ambient_temperature, date_time, capacity,\n",
        "                        voltage_measured, current_measured,\n",
        "                        temperature_measured, current_load,\n",
        "                        voltage_load, time])\n",
        "      capacity_data.append([counter + 1, ambient_temperature, date_time, capacity])\n",
        "      counter = counter + 1\n",
        "  print(dataset[0])\n",
        "  return [pd.DataFrame(data=dataset,\n",
        "                       columns=['cycle', 'ambient_temperature', 'datetime',\n",
        "                                'capacity', 'voltage_measured',\n",
        "                                'current_measured', 'temperature_measured',\n",
        "                                'current_load', 'voltage_load', 'time']),\n",
        "          pd.DataFrame(data=capacity_data,\n",
        "                       columns=['cycle', 'ambient_temperature', 'datetime',\n",
        "                                'capacity'])]\n",
        "dataset, capacity = load_data('B0005')\n",
        "pd.set_option('display.max_columns', 10)\n",
        "print(dataset.head())\n",
        "dataset.describe()"
      ],
      "execution_count": 3,
      "outputs": [
        {
          "output_type": "stream",
          "text": [
            "Total data in dataset:  616\n",
            "[1, 24, datetime.datetime(2008, 4, 2, 15, 25, 41), 1.8564874208181574, 4.191491807505295, -0.004901589207462691, 24.330033885570543, -0.0006, 0.0, 0.0]\n",
            "   cycle  ambient_temperature            datetime  capacity  voltage_measured  \\\n",
            "0      1                   24 2008-04-02 15:25:41  1.856487          4.191492   \n",
            "1      1                   24 2008-04-02 15:25:41  1.856487          4.190749   \n",
            "2      1                   24 2008-04-02 15:25:41  1.856487          3.974871   \n",
            "3      1                   24 2008-04-02 15:25:41  1.856487          3.951717   \n",
            "4      1                   24 2008-04-02 15:25:41  1.856487          3.934352   \n",
            "\n",
            "   current_measured  temperature_measured  current_load  voltage_load    time  \n",
            "0         -0.004902             24.330034       -0.0006         0.000   0.000  \n",
            "1         -0.001478             24.325993       -0.0006         4.206  16.781  \n",
            "2         -2.012528             24.389085       -1.9982         3.062  35.703  \n",
            "3         -2.013979             24.544752       -1.9982         3.030  53.781  \n",
            "4         -2.011144             24.731385       -1.9982         3.011  71.922  \n"
          ],
          "name": "stdout"
        },
        {
          "output_type": "execute_result",
          "data": {
            "text/html": [
              "<div>\n",
              "<style scoped>\n",
              "    .dataframe tbody tr th:only-of-type {\n",
              "        vertical-align: middle;\n",
              "    }\n",
              "\n",
              "    .dataframe tbody tr th {\n",
              "        vertical-align: top;\n",
              "    }\n",
              "\n",
              "    .dataframe thead th {\n",
              "        text-align: right;\n",
              "    }\n",
              "</style>\n",
              "<table border=\"1\" class=\"dataframe\">\n",
              "  <thead>\n",
              "    <tr style=\"text-align: right;\">\n",
              "      <th></th>\n",
              "      <th>cycle</th>\n",
              "      <th>ambient_temperature</th>\n",
              "      <th>capacity</th>\n",
              "      <th>voltage_measured</th>\n",
              "      <th>current_measured</th>\n",
              "      <th>temperature_measured</th>\n",
              "      <th>current_load</th>\n",
              "      <th>voltage_load</th>\n",
              "      <th>time</th>\n",
              "    </tr>\n",
              "  </thead>\n",
              "  <tbody>\n",
              "    <tr>\n",
              "      <th>count</th>\n",
              "      <td>50285.000000</td>\n",
              "      <td>50285.0</td>\n",
              "      <td>50285.000000</td>\n",
              "      <td>50285.000000</td>\n",
              "      <td>50285.000000</td>\n",
              "      <td>50285.000000</td>\n",
              "      <td>50285.000000</td>\n",
              "      <td>50285.000000</td>\n",
              "      <td>50285.000000</td>\n",
              "    </tr>\n",
              "    <tr>\n",
              "      <th>mean</th>\n",
              "      <td>88.125942</td>\n",
              "      <td>24.0</td>\n",
              "      <td>1.560345</td>\n",
              "      <td>3.515268</td>\n",
              "      <td>-1.806032</td>\n",
              "      <td>32.816991</td>\n",
              "      <td>1.362700</td>\n",
              "      <td>2.308406</td>\n",
              "      <td>1546.208924</td>\n",
              "    </tr>\n",
              "    <tr>\n",
              "      <th>std</th>\n",
              "      <td>45.699687</td>\n",
              "      <td>0.0</td>\n",
              "      <td>0.182380</td>\n",
              "      <td>0.231778</td>\n",
              "      <td>0.610502</td>\n",
              "      <td>3.987515</td>\n",
              "      <td>1.313698</td>\n",
              "      <td>0.800300</td>\n",
              "      <td>906.640295</td>\n",
              "    </tr>\n",
              "    <tr>\n",
              "      <th>min</th>\n",
              "      <td>1.000000</td>\n",
              "      <td>24.0</td>\n",
              "      <td>1.287453</td>\n",
              "      <td>2.455679</td>\n",
              "      <td>-2.029098</td>\n",
              "      <td>23.214802</td>\n",
              "      <td>-1.998400</td>\n",
              "      <td>0.000000</td>\n",
              "      <td>0.000000</td>\n",
              "    </tr>\n",
              "    <tr>\n",
              "      <th>25%</th>\n",
              "      <td>50.000000</td>\n",
              "      <td>24.0</td>\n",
              "      <td>1.386229</td>\n",
              "      <td>3.399384</td>\n",
              "      <td>-2.013415</td>\n",
              "      <td>30.019392</td>\n",
              "      <td>1.998000</td>\n",
              "      <td>2.388000</td>\n",
              "      <td>768.563000</td>\n",
              "    </tr>\n",
              "    <tr>\n",
              "      <th>50%</th>\n",
              "      <td>88.000000</td>\n",
              "      <td>24.0</td>\n",
              "      <td>1.538237</td>\n",
              "      <td>3.511664</td>\n",
              "      <td>-2.012312</td>\n",
              "      <td>32.828944</td>\n",
              "      <td>1.998200</td>\n",
              "      <td>2.533000</td>\n",
              "      <td>1537.031000</td>\n",
              "    </tr>\n",
              "    <tr>\n",
              "      <th>75%</th>\n",
              "      <td>127.000000</td>\n",
              "      <td>24.0</td>\n",
              "      <td>1.746871</td>\n",
              "      <td>3.660903</td>\n",
              "      <td>-2.011052</td>\n",
              "      <td>35.920887</td>\n",
              "      <td>1.998200</td>\n",
              "      <td>2.690000</td>\n",
              "      <td>2305.984000</td>\n",
              "    </tr>\n",
              "    <tr>\n",
              "      <th>max</th>\n",
              "      <td>168.000000</td>\n",
              "      <td>24.0</td>\n",
              "      <td>1.856487</td>\n",
              "      <td>4.222920</td>\n",
              "      <td>0.007496</td>\n",
              "      <td>41.450232</td>\n",
              "      <td>1.998400</td>\n",
              "      <td>4.238000</td>\n",
              "      <td>3690.234000</td>\n",
              "    </tr>\n",
              "  </tbody>\n",
              "</table>\n",
              "</div>"
            ],
            "text/plain": [
              "              cycle  ambient_temperature      capacity  voltage_measured  \\\n",
              "count  50285.000000              50285.0  50285.000000      50285.000000   \n",
              "mean      88.125942                 24.0      1.560345          3.515268   \n",
              "std       45.699687                  0.0      0.182380          0.231778   \n",
              "min        1.000000                 24.0      1.287453          2.455679   \n",
              "25%       50.000000                 24.0      1.386229          3.399384   \n",
              "50%       88.000000                 24.0      1.538237          3.511664   \n",
              "75%      127.000000                 24.0      1.746871          3.660903   \n",
              "max      168.000000                 24.0      1.856487          4.222920   \n",
              "\n",
              "       current_measured  temperature_measured  current_load  voltage_load  \\\n",
              "count      50285.000000          50285.000000  50285.000000  50285.000000   \n",
              "mean          -1.806032             32.816991      1.362700      2.308406   \n",
              "std            0.610502              3.987515      1.313698      0.800300   \n",
              "min           -2.029098             23.214802     -1.998400      0.000000   \n",
              "25%           -2.013415             30.019392      1.998000      2.388000   \n",
              "50%           -2.012312             32.828944      1.998200      2.533000   \n",
              "75%           -2.011052             35.920887      1.998200      2.690000   \n",
              "max            0.007496             41.450232      1.998400      4.238000   \n",
              "\n",
              "               time  \n",
              "count  50285.000000  \n",
              "mean    1546.208924  \n",
              "std      906.640295  \n",
              "min        0.000000  \n",
              "25%      768.563000  \n",
              "50%     1537.031000  \n",
              "75%     2305.984000  \n",
              "max     3690.234000  "
            ]
          },
          "metadata": {
            "tags": []
          },
          "execution_count": 3
        }
      ]
    },
    {
      "cell_type": "markdown",
      "metadata": {
        "id": "JGw5YahwIAuF",
        "colab_type": "text"
      },
      "source": [
        "El siguiente gráfico muestra el proceso de envejecimiento de la bateria a medida que avanzan los ciclos de carga. La linea horizontal representa el threshold relacionado a lo que se puede considerar el fin de ciclo de vida de la batería."
      ]
    },
    {
      "cell_type": "code",
      "metadata": {
        "id": "hJBAcVdFzOYn",
        "colab_type": "code",
        "outputId": "c13081b0-d4a5-47cb-ae32-1bcbd76e7e7b",
        "colab": {
          "base_uri": "https://localhost:8080/",
          "height": 531
        }
      },
      "source": [
        "plot_df = capacity.loc[(capacity['cycle']>=1),['cycle','capacity']]\n",
        "sns.set_style(\"darkgrid\")\n",
        "plt.figure(figsize=(12, 8))\n",
        "plt.plot(plot_df['cycle'], plot_df['capacity'])\n",
        "#Draw threshold\n",
        "plt.plot([0.,len(capacity)], [1.4, 1.4])\n",
        "plt.ylabel('Capacity')\n",
        "# make x-axis ticks legible\n",
        "adf = plt.gca().get_xaxis().get_major_formatter()\n",
        "plt.xlabel('cycle')\n",
        "plt.title('Discharge B0005')"
      ],
      "execution_count": 4,
      "outputs": [
        {
          "output_type": "execute_result",
          "data": {
            "text/plain": [
              "Text(0.5, 1.0, 'Discharge B0005')"
            ]
          },
          "metadata": {
            "tags": []
          },
          "execution_count": 4
        },
        {
          "output_type": "display_data",
          "data": {
            "image/png": "[encoded data removed]",
            "text/plain": [
              "<Figure size 864x576 with 1 Axes>"
            ]
          },
          "metadata": {
            "tags": []
          }
        }
      ]
    },
    {
      "cell_type": "markdown",
      "metadata": {
        "id": "rzBMF-DHNVht",
        "colab_type": "text"
      },
      "source": [
        "Es necesario igualmente calcular el SoH de la bateria, ya que este es el dato que se va a predecir haciendo uso del modelo de *deep learning*"
      ]
    },
    {
      "cell_type": "code",
      "metadata": {
        "id": "PXBCY4Gw1MW-",
        "colab_type": "code",
        "outputId": "602f44a4-4fdd-4795-9d6c-d7ffe1ee29dc",
        "colab": {
          "base_uri": "https://localhost:8080/",
          "height": 125
        }
      },
      "source": [
        "attrib=['cycle', 'datetime', 'capacity']\n",
        "dis_ele = capacity[attrib]\n",
        "C = dis_ele['capacity'][0]\n",
        "for i in range(len(dis_ele)):\n",
        "    dis_ele['SoH']=(dis_ele['capacity'])/C\n",
        "print(dis_ele.head(5))"
      ],
      "execution_count": 5,
      "outputs": [
        {
          "output_type": "stream",
          "text": [
            "   cycle            datetime  capacity       SoH\n",
            "0      1 2008-04-02 15:25:41  1.856487  1.000000\n",
            "1      2 2008-04-02 19:43:48  1.846327  0.994527\n",
            "2      3 2008-04-03 00:01:06  1.835349  0.988614\n",
            "3      4 2008-04-03 04:16:37  1.835263  0.988567\n",
            "4      5 2008-04-03 08:33:25  1.834646  0.988235\n"
          ],
          "name": "stdout"
        }
      ]
    },
    {
      "cell_type": "markdown",
      "metadata": {
        "id": "qDwFTfA3NlBy",
        "colab_type": "text"
      },
      "source": [
        "Igualmente a lo hecho anteriormente, se realiza una gráfica del SoH por cada ciclo, la línea horizontal representa el threshold del 70% en el cual la bateria ya cumple su ciclo de vida y ya es recomendable hacer el cambio."
      ]
    },
    {
      "cell_type": "code",
      "metadata": {
        "id": "2-x82h7g-6nO",
        "colab_type": "code",
        "outputId": "4b5f5e58-ba53-4efb-acb4-a8fa7e10aef5",
        "colab": {
          "base_uri": "https://localhost:8080/",
          "height": 368
        }
      },
      "source": [
        "plot_df = dis_ele.loc[(dis_ele['cycle']>=1),['cycle','SoH']]\n",
        "sns.set_style(\"white\")\n",
        "plt.figure(figsize=(8, 5))\n",
        "plt.plot(plot_df['cycle'], plot_df['SoH'])\n",
        "#Draw threshold\n",
        "plt.plot([0.,len(capacity)], [0.70, 0.70])\n",
        "plt.ylabel('SOH')\n",
        "# make x-axis ticks legible\n",
        "adf = plt.gca().get_xaxis().get_major_formatter()\n",
        "plt.xlabel('cycle')\n",
        "plt.title('Discharge B0005')"
      ],
      "execution_count": 6,
      "outputs": [
        {
          "output_type": "execute_result",
          "data": {
            "text/plain": [
              "Text(0.5, 1.0, 'Discharge B0005')"
            ]
          },
          "metadata": {
            "tags": []
          },
          "execution_count": 6
        },
        {
          "output_type": "display_data",
          "data": {
            "image/png": "[encoded data removed]",
            "text/plain": [
              "<Figure size 576x360 with 1 Axes>"
            ]
          },
          "metadata": {
            "tags": []
          }
        }
      ]
    },
    {
      "cell_type": "markdown",
      "metadata": {
        "id": "-FLBE8qrR8vS",
        "colab_type": "text"
      },
      "source": [
        "## Fase de entrenamiento para el calculo del SoH\n",
        "Se prepara el dataset de tal manera que pueda ser usado por Tensorflow en la fase de entrenamiento, para esto se crean dos estructuras correspondientes a la entrada y salida que se espera obtener. Para los datos de entrada se filtran y las caracteristicas relevantes del dataset los cuales son:\n",
        "* Capacidad de la batería\n",
        "* Voltaje\n",
        "* Corriente\n",
        "* Temperatura\n",
        "* Voltaje de carga\n",
        "* Corriente de carga\n",
        "* Instante de tiempo (desde el inicio de la descarga)\n",
        "\n",
        "Para los datos de la salida se calcula el SoH de la bateria y en ambos casos de entrada y salida, los valores se normalizan a un rango de valores entre [0-1]."
      ]
    },
    {
      "cell_type": "code",
      "metadata": {
        "id": "XhgFVnqx7zO3",
        "colab_type": "code",
        "outputId": "e228a288-edb1-4c4e-b140-582b4235a73c",
        "colab": {
          "base_uri": "https://localhost:8080/",
          "height": 53
        }
      },
      "source": [
        "C = dataset['capacity'][0]\n",
        "soh = []\n",
        "for i in range(len(dataset)):\n",
        "  soh.append([dataset['capacity'][i] / C])\n",
        "soh = pd.DataFrame(data=soh, columns=['SoH'])\n",
        "\n",
        "attribs=['capacity', 'voltage_measured', 'current_measured',\n",
        "         'temperature_measured', 'current_load', 'voltage_load', 'time']\n",
        "train_dataset = dataset[attribs]\n",
        "sc = MinMaxScaler(feature_range=(0,1))\n",
        "train_dataset = sc.fit_transform(train_dataset)\n",
        "print(train_dataset.shape)\n",
        "print(soh.shape)"
      ],
      "execution_count": 7,
      "outputs": [
        {
          "output_type": "stream",
          "text": [
            "(50285, 7)\n",
            "(50285, 1)\n"
          ],
          "name": "stdout"
        }
      ]
    },
    {
      "cell_type": "markdown",
      "metadata": {
        "id": "U_fBEAXV2qZz",
        "colab_type": "text"
      },
      "source": [
        "Preparacion del modelo, se usa 3 capas densas, y se usan los parametros tal cual se encuentran en el paper: 3 capas densas y una de dropout, y como optimizador se usa uno de tipo ADAM"
      ]
    },
    {
      "cell_type": "code",
      "metadata": {
        "id": "915_UyaoSucG",
        "colab_type": "code",
        "colab": {}
      },
      "source": [
        "import tensorflow as tf\n",
        "from tensorflow.keras.models import Sequential\n",
        "from tensorflow.keras.layers import Dense\n",
        "from tensorflow.keras.layers import Dropout\n",
        "from tensorflow.keras.layers import Flatten\n",
        "from tensorflow.keras.layers import LSTM\n",
        "from tensorflow.keras.optimizers import Adam"
      ],
      "execution_count": 0,
      "outputs": []
    },
    {
      "cell_type": "code",
      "metadata": {
        "id": "wksYStH1TYzC",
        "colab_type": "code",
        "outputId": "507f78a0-cecf-4f25-fd97-aa57fe93a1ab",
        "colab": {
          "base_uri": "https://localhost:8080/",
          "height": 341
        }
      },
      "source": [
        "model = Sequential()\n",
        "model.add(Dense(8, activation='relu', input_dim=train_dataset.shape[1]))\n",
        "model.add(Dense(8, activation='relu'))\n",
        "model.add(Dense(8, activation='relu'))\n",
        "model.add(Dropout(rate=0.25))\n",
        "model.add(Dense(1))\n",
        "model.summary()\n",
        "model.compile(optimizer=Adam(beta_1=0.9, beta_2=0.999, epsilon=1e-08), loss='mean_absolute_error')"
      ],
      "execution_count": 9,
      "outputs": [
        {
          "output_type": "stream",
          "text": [
            "Model: \"sequential\"\n",
            "_________________________________________________________________\n",
            "Layer (type)                 Output Shape              Param #   \n",
            "=================================================================\n",
            "dense (Dense)                (None, 8)                 64        \n",
            "_________________________________________________________________\n",
            "dense_1 (Dense)              (None, 8)                 72        \n",
            "_________________________________________________________________\n",
            "dense_2 (Dense)              (None, 8)                 72        \n",
            "_________________________________________________________________\n",
            "dropout (Dropout)            (None, 8)                 0         \n",
            "_________________________________________________________________\n",
            "dense_3 (Dense)              (None, 1)                 9         \n",
            "=================================================================\n",
            "Total params: 217\n",
            "Trainable params: 217\n",
            "Non-trainable params: 0\n",
            "_________________________________________________________________\n"
          ],
          "name": "stdout"
        }
      ]
    },
    {
      "cell_type": "markdown",
      "metadata": {
        "id": "BbmGgJJr0X4q",
        "colab_type": "text"
      },
      "source": [
        "Se procede a entrenar el modelo, se usan 20 epochs para el entrenamiento"
      ]
    },
    {
      "cell_type": "code",
      "metadata": {
        "id": "ADzFmLmhHGrh",
        "colab_type": "code",
        "outputId": "5cc30f4c-0efa-48bc-a1f3-1ffb5220f66e",
        "colab": {
          "base_uri": "https://localhost:8080/",
          "height": 1000
        }
      },
      "source": [
        "model.fit(x=train_dataset, y=soh.to_numpy(), batch_size=25, epochs=50)"
      ],
      "execution_count": 10,
      "outputs": [
        {
          "output_type": "stream",
          "text": [
            "Train on 50285 samples\n",
            "Epoch 1/50\n",
            "50285/50285 [==============================] - 8s 156us/sample - loss: 0.1207\n",
            "Epoch 2/50\n",
            "50285/50285 [==============================] - 7s 131us/sample - loss: 0.0296\n",
            "Epoch 3/50\n",
            "50285/50285 [==============================] - 7s 130us/sample - loss: 0.0228\n",
            "Epoch 4/50\n",
            "50285/50285 [==============================] - 7s 131us/sample - loss: 0.0226\n",
            "Epoch 5/50\n",
            "50285/50285 [==============================] - 7s 133us/sample - loss: 0.0223\n",
            "Epoch 6/50\n",
            "50285/50285 [==============================] - 6s 128us/sample - loss: 0.0220\n",
            "Epoch 7/50\n",
            "50285/50285 [==============================] - 7s 130us/sample - loss: 0.0222\n",
            "Epoch 8/50\n",
            "50285/50285 [==============================] - 7s 130us/sample - loss: 0.0221\n",
            "Epoch 9/50\n",
            "50285/50285 [==============================] - 7s 129us/sample - loss: 0.0221\n",
            "Epoch 10/50\n",
            "50285/50285 [==============================] - 7s 131us/sample - loss: 0.0220\n",
            "Epoch 11/50\n",
            "50285/50285 [==============================] - 7s 131us/sample - loss: 0.0222\n",
            "Epoch 12/50\n",
            "50285/50285 [==============================] - 7s 130us/sample - loss: 0.0220\n",
            "Epoch 13/50\n",
            "50285/50285 [==============================] - 6s 129us/sample - loss: 0.0220\n",
            "Epoch 14/50\n",
            "50285/50285 [==============================] - 7s 130us/sample - loss: 0.0224\n",
            "Epoch 15/50\n",
            "50285/50285 [==============================] - 6s 129us/sample - loss: 0.0220\n",
            "Epoch 16/50\n",
            "50285/50285 [==============================] - 7s 131us/sample - loss: 0.0221\n",
            "Epoch 17/50\n",
            "50285/50285 [==============================] - 6s 128us/sample - loss: 0.0222\n",
            "Epoch 18/50\n",
            "50285/50285 [==============================] - 6s 128us/sample - loss: 0.0220\n",
            "Epoch 19/50\n",
            "50285/50285 [==============================] - 6s 128us/sample - loss: 0.0219\n",
            "Epoch 20/50\n",
            "50285/50285 [==============================] - 6s 129us/sample - loss: 0.0220\n",
            "Epoch 21/50\n",
            "50285/50285 [==============================] - 6s 129us/sample - loss: 0.0221\n",
            "Epoch 22/50\n",
            "50285/50285 [==============================] - 7s 130us/sample - loss: 0.0220\n",
            "Epoch 23/50\n",
            "50285/50285 [==============================] - 6s 129us/sample - loss: 0.0216\n",
            "Epoch 24/50\n",
            "50285/50285 [==============================] - 6s 129us/sample - loss: 0.0220\n",
            "Epoch 25/50\n",
            "50285/50285 [==============================] - 7s 130us/sample - loss: 0.0220\n",
            "Epoch 26/50\n",
            "50285/50285 [==============================] - 6s 128us/sample - loss: 0.0223\n",
            "Epoch 27/50\n",
            "50285/50285 [==============================] - 6s 128us/sample - loss: 0.0220\n",
            "Epoch 28/50\n",
            "50285/50285 [==============================] - 7s 130us/sample - loss: 0.0218\n",
            "Epoch 29/50\n",
            "50285/50285 [==============================] - 6s 129us/sample - loss: 0.0221\n",
            "Epoch 30/50\n",
            "50285/50285 [==============================] - 7s 130us/sample - loss: 0.0220\n",
            "Epoch 31/50\n",
            "50285/50285 [==============================] - 6s 128us/sample - loss: 0.0221\n",
            "Epoch 32/50\n",
            "50285/50285 [==============================] - 7s 130us/sample - loss: 0.0220\n",
            "Epoch 33/50\n",
            "50285/50285 [==============================] - 6s 127us/sample - loss: 0.0219\n",
            "Epoch 34/50\n",
            "50285/50285 [==============================] - 7s 131us/sample - loss: 0.0220\n",
            "Epoch 35/50\n",
            "50285/50285 [==============================] - 6s 129us/sample - loss: 0.0220\n",
            "Epoch 36/50\n",
            "50285/50285 [==============================] - 6s 129us/sample - loss: 0.0222\n",
            "Epoch 37/50\n",
            "50285/50285 [==============================] - 6s 128us/sample - loss: 0.0221\n",
            "Epoch 38/50\n",
            "50285/50285 [==============================] - 6s 129us/sample - loss: 0.0219\n",
            "Epoch 39/50\n",
            "50285/50285 [==============================] - 6s 127us/sample - loss: 0.0219\n",
            "Epoch 40/50\n",
            "50285/50285 [==============================] - 7s 130us/sample - loss: 0.0220\n",
            "Epoch 41/50\n",
            "50285/50285 [==============================] - 6s 129us/sample - loss: 0.0220\n",
            "Epoch 42/50\n",
            "50285/50285 [==============================] - 6s 129us/sample - loss: 0.0220\n",
            "Epoch 43/50\n",
            "50285/50285 [==============================] - 6s 128us/sample - loss: 0.0221\n",
            "Epoch 44/50\n",
            "50285/50285 [==============================] - 6s 128us/sample - loss: 0.0222\n",
            "Epoch 45/50\n",
            "50285/50285 [==============================] - 6s 128us/sample - loss: 0.0221\n",
            "Epoch 46/50\n",
            "50285/50285 [==============================] - 6s 129us/sample - loss: 0.0219\n",
            "Epoch 47/50\n",
            "50285/50285 [==============================] - 7s 137us/sample - loss: 0.0220\n",
            "Epoch 48/50\n",
            "50285/50285 [==============================] - 7s 133us/sample - loss: 0.0220\n",
            "Epoch 49/50\n",
            "50285/50285 [==============================] - 7s 130us/sample - loss: 0.0222\n",
            "Epoch 50/50\n",
            "50285/50285 [==============================] - 7s 129us/sample - loss: 0.0220\n"
          ],
          "name": "stdout"
        },
        {
          "output_type": "execute_result",
          "data": {
            "text/plain": [
              "<tensorflow.python.keras.callbacks.History at 0x7fac3c543f28>"
            ]
          },
          "metadata": {
            "tags": []
          },
          "execution_count": 10
        }
      ]
    },
    {
      "cell_type": "markdown",
      "metadata": {
        "id": "QT_A23ve0gZa",
        "colab_type": "text"
      },
      "source": [
        "## Testing para probar el modelo de predicción del SoH\n",
        "Para probar la correctitud del modelo se carga la información de la misma bateria (B0006)"
      ]
    },
    {
      "cell_type": "code",
      "metadata": {
        "id": "fnEI3HwkKEHr",
        "colab_type": "code",
        "outputId": "42ec40ca-9bdd-48fb-e9a3-1f013d2e48c1",
        "colab": {
          "base_uri": "https://localhost:8080/",
          "height": 395
        }
      },
      "source": [
        "dataset_val, capacity_val = load_data('B0006')\n",
        "attrib=['cycle', 'datetime', 'capacity']\n",
        "dis_ele = capacity_val[attrib]\n",
        "C = dis_ele['capacity'][0]\n",
        "for i in range(len(dis_ele)):\n",
        "    dis_ele['SoH']=(dis_ele['capacity']) / C\n",
        "print(dataset_val.head(5))\n",
        "print(dis_ele.head(5))"
      ],
      "execution_count": 59,
      "outputs": [
        {
          "output_type": "stream",
          "text": [
            "Total data in dataset:  616\n",
            "[1, 24, datetime.datetime(2008, 4, 2, 15, 25, 41), 2.035337591005598, 4.179799607333447, -0.0023663271409738672, 24.277567510331888, -0.0006, 0.0, 0.0]\n",
            "   cycle  ambient_temperature            datetime  capacity  voltage_measured  \\\n",
            "0      1                   24 2008-04-02 15:25:41  2.035338          4.179800   \n",
            "1      1                   24 2008-04-02 15:25:41  2.035338          4.179823   \n",
            "2      1                   24 2008-04-02 15:25:41  2.035338          3.966528   \n",
            "3      1                   24 2008-04-02 15:25:41  2.035338          3.945886   \n",
            "4      1                   24 2008-04-02 15:25:41  2.035338          3.930354   \n",
            "\n",
            "   current_measured  temperature_measured  current_load  voltage_load    time  \n",
            "0         -0.002366             24.277568       -0.0006         0.000   0.000  \n",
            "1          0.000434             24.277073       -0.0006         4.195  16.781  \n",
            "2         -2.014242             24.366226       -1.9990         3.070  35.703  \n",
            "3         -2.008730             24.515123       -1.9990         3.045  53.781  \n",
            "4         -2.013381             24.676053       -1.9990         3.026  71.922  \n",
            "   cycle            datetime  capacity       SoH\n",
            "0      1 2008-04-02 15:25:41  2.035338  1.000000\n",
            "1      2 2008-04-02 19:43:48  2.025140  0.994990\n",
            "2      3 2008-04-03 00:01:06  2.013326  0.989185\n",
            "3      4 2008-04-03 04:16:37  2.013285  0.989165\n",
            "4      5 2008-04-03 08:33:25  2.000528  0.982898\n"
          ],
          "name": "stdout"
        }
      ]
    },
    {
      "cell_type": "markdown",
      "metadata": {
        "id": "wo8U-E5_0pvO",
        "colab_type": "text"
      },
      "source": [
        "Se crea una tabla que contiene el SoH real y el SoH que la red predijo y se calcula la raiz del error cuadratico medio"
      ]
    },
    {
      "cell_type": "code",
      "metadata": {
        "id": "3gnWnehzKumj",
        "colab_type": "code",
        "outputId": "76323a5e-c233-45d7-94a9-4f460612c4a7",
        "colab": {
          "base_uri": "https://localhost:8080/",
          "height": 251
        }
      },
      "source": [
        "attrib=['capacity', 'voltage_measured', 'current_measured',\n",
        "        'temperature_measured', 'current_load', 'voltage_load', 'time']\n",
        "soh_pred = model.predict(sc.fit_transform(dataset_val[attrib]))\n",
        "print(soh_pred.shape)\n",
        "\n",
        "C = dataset_val['capacity'][0]\n",
        "soh = []\n",
        "for i in range(len(dataset_val)):\n",
        "  soh.append(dataset_val['capacity'][i] / C)\n",
        "new_soh = dataset_val.loc[(dataset_val['cycle'] >= 1), ['cycle']]\n",
        "new_soh['SoH'] =  soh\n",
        "new_soh['NewSoH'] = soh_pred\n",
        "new_soh = new_soh.groupby(['cycle']).mean().reset_index()\n",
        "print(new_soh.head(10))\n",
        "rms = np.sqrt(mean_squared_error(new_soh['SoH'], new_soh['NewSoH']))\n",
        "print('Root Mean Square Error: ', rms)"
      ],
      "execution_count": 60,
      "outputs": [
        {
          "output_type": "stream",
          "text": [
            "(50285, 1)\n",
            "   cycle       SoH    NewSoH\n",
            "0      1  1.000000  0.959172\n",
            "1      2  0.994990  0.956460\n",
            "2      3  0.989185  0.953311\n",
            "3      4  0.989165  0.953293\n",
            "4      5  0.982898  0.949908\n",
            "5      6  0.989467  0.953456\n",
            "6      7  0.989075  0.953246\n",
            "7      8  0.967304  0.941484\n",
            "8      9  0.966997  0.941313\n",
            "9     10  0.961625  0.938410\n",
            "Root Mean Square Error:  0.09088712307694548\n"
          ],
          "name": "stdout"
        }
      ]
    },
    {
      "cell_type": "markdown",
      "metadata": {
        "id": "SQ-Z9-h_09a9",
        "colab_type": "text"
      },
      "source": [
        "Finalmente se gráfican ambos SoH para observar sus diferencias"
      ]
    },
    {
      "cell_type": "code",
      "metadata": {
        "id": "Obmj4beTqbQB",
        "colab_type": "code",
        "outputId": "4757b4ce-b7c9-4f3b-bf61-380b547f4ed6",
        "colab": {
          "base_uri": "https://localhost:8080/",
          "height": 639
        }
      },
      "source": [
        "plot_df = new_soh.loc[(new_soh['cycle']>=1),['cycle','SoH', 'NewSoH']]\n",
        "sns.set_style(\"white\")\n",
        "plt.figure(figsize=(16, 10))\n",
        "plt.plot(plot_df['cycle'], plot_df['SoH'], label='SoH')\n",
        "plt.plot(plot_df['cycle'], plot_df['NewSoH'], label='Predicted SoH')\n",
        "#Draw threshold\n",
        "#plt.plot([0.,len(capacity)], [0.70, 0.70], label='Threshold')\n",
        "plt.ylabel('SOH')\n",
        "# make x-axis ticks legible\n",
        "adf = plt.gca().get_xaxis().get_major_formatter()\n",
        "plt.xlabel('cycle')\n",
        "plt.legend()\n",
        "plt.title('Discharge B0006')"
      ],
      "execution_count": 61,
      "outputs": [
        {
          "output_type": "execute_result",
          "data": {
            "text/plain": [
              "Text(0.5, 1.0, 'Discharge B0006')"
            ]
          },
          "metadata": {
            "tags": []
          },
          "execution_count": 61
        },
        {
          "output_type": "display_data",
          "data": {
            "image/png": "[encoded data removed]",
            "text/plain": [
              "<Figure size 1152x720 with 1 Axes>"
            ]
          },
          "metadata": {
            "tags": []
          }
        }
      ]
    },
    {
      "cell_type": "markdown",
      "metadata": {
        "id": "4mk0Tgj_H4qT",
        "colab_type": "text"
      },
      "source": [
        "Para la estimación del SoH, se puede observar que el patrón de datos es aprendido por el modelo correctamente, tal como predice la teoría, ya que la forma de las curvas es casi idéntica. El SoH que se muestra tiene el mismo comportamiento al esperado en la teoría, lo que se corrobora con el valor de raíz de error cuadrático medio del gráfico de la ilustración 8, cuyo valor de 9% es muy similar al encontrado anteriormente. Con esto se reafirma la precisión al momento de hacer la predicción."
      ]
    },
    {
      "cell_type": "markdown",
      "metadata": {
        "id": "xZ0WkZrRIDAQ",
        "colab_type": "text"
      },
      "source": [
        "## Estimación del RUL\n",
        "De similar forma que se hizo para la estimación del SoH, se prepara el dataset de entrenamiento y de testing, en este caso en particular se usan los datos de la capacidad de la batería usando los primeros datos de los primeros 50 ciclos para así predecir la capacidad en los siguientes ciclos de tal manera de poder saber cuando se alcanza el threshold de la bateria y estimar los ciclos faltantes para llegar al End of Life de la batería"
      ]
    },
    {
      "cell_type": "code",
      "metadata": {
        "id": "xsEpwnfYRBRP",
        "colab_type": "code",
        "colab": {
          "base_uri": "https://localhost:8080/",
          "height": 53
        },
        "outputId": "1893c0bc-b7d6-4300-ca7e-b355da6ec52f"
      },
      "source": [
        "dataset_val, capacity_val = load_data('B0005')\n",
        "attrib=['cycle', 'datetime', 'capacity']\n",
        "dis_ele = capacity_val[attrib]\n",
        "rows=['cycle','capacity']\n",
        "dataset=dis_ele[rows]\n",
        "data_train=dataset[(dataset['cycle']<50)]\n",
        "data_set_train=data_train.iloc[:,1:2].values\n",
        "data_test=dataset[(dataset['cycle']>=50)]\n",
        "data_set_test=data_test.iloc[:,1:2].values\n",
        "\n",
        "sc=MinMaxScaler(feature_range=(0,1))\n",
        "data_set_train=sc.fit_transform(data_set_train)\n",
        "data_set_test=sc.transform(data_set_test)\n",
        "\n",
        "X_train=[]\n",
        "y_train=[]\n",
        "#take the last 10t to predict 10t+1\n",
        "for i in range(10,49):\n",
        "    X_train.append(data_set_train[i-10:i,0])\n",
        "    y_train.append(data_set_train[i,0])\n",
        "X_train,y_train=np.array(X_train),np.array(y_train)\n",
        " \n",
        "X_train=np.reshape(X_train,(X_train.shape[0],X_train.shape[1],1))"
      ],
      "execution_count": 48,
      "outputs": [
        {
          "output_type": "stream",
          "text": [
            "Total data in dataset:  616\n",
            "[1, 24, datetime.datetime(2008, 4, 2, 15, 25, 41), 1.8564874208181574, 4.191491807505295, -0.004901589207462691, 24.330033885570543, -0.0006, 0.0, 0.0]\n"
          ],
          "name": "stdout"
        }
      ]
    },
    {
      "cell_type": "markdown",
      "metadata": {
        "id": "9B7hOJjkJNRq",
        "colab_type": "text"
      },
      "source": [
        "En esta sección se entrena el modelo, basandonos en la propuesta de [2] y haciendo uso de redes tipo LSTM en vez de redes neuronales estandar."
      ]
    },
    {
      "cell_type": "code",
      "metadata": {
        "id": "dlR7qNNjOTbE",
        "colab_type": "code",
        "colab": {
          "base_uri": "https://localhost:8080/",
          "height": 485
        },
        "outputId": "0b5448a9-1cdb-4ddf-bcb4-3958eb94db54"
      },
      "source": [
        "regress = Sequential()\n",
        "regress.add(LSTM(units=200, return_sequences=True, input_shape=(X_train.shape[1],1)))\n",
        "regress.add(Dropout(0.3))\n",
        "regress.add(LSTM(units=200, return_sequences=True))\n",
        "regress.add(Dropout(0.3))\n",
        "regress.add(LSTM(units=200, return_sequences=True))\n",
        "regress.add(Dropout(0.3))\n",
        "regress.add(LSTM(units=200))\n",
        "regress.add(Dropout(0.3))\n",
        "regress.add(Dense(units=1))\n",
        "regress.compile(optimizer='adam',loss='mean_squared_error')\n",
        "regress.summary()"
      ],
      "execution_count": 49,
      "outputs": [
        {
          "output_type": "stream",
          "text": [
            "Model: \"sequential_6\"\n",
            "_________________________________________________________________\n",
            "Layer (type)                 Output Shape              Param #   \n",
            "=================================================================\n",
            "lstm_20 (LSTM)               (None, 10, 200)           161600    \n",
            "_________________________________________________________________\n",
            "dropout_21 (Dropout)         (None, 10, 200)           0         \n",
            "_________________________________________________________________\n",
            "lstm_21 (LSTM)               (None, 10, 200)           320800    \n",
            "_________________________________________________________________\n",
            "dropout_22 (Dropout)         (None, 10, 200)           0         \n",
            "_________________________________________________________________\n",
            "lstm_22 (LSTM)               (None, 10, 200)           320800    \n",
            "_________________________________________________________________\n",
            "dropout_23 (Dropout)         (None, 10, 200)           0         \n",
            "_________________________________________________________________\n",
            "lstm_23 (LSTM)               (None, 200)               320800    \n",
            "_________________________________________________________________\n",
            "dropout_24 (Dropout)         (None, 200)               0         \n",
            "_________________________________________________________________\n",
            "dense_9 (Dense)              (None, 1)                 201       \n",
            "=================================================================\n",
            "Total params: 1,124,201\n",
            "Trainable params: 1,124,201\n",
            "Non-trainable params: 0\n",
            "_________________________________________________________________\n"
          ],
          "name": "stdout"
        }
      ]
    },
    {
      "cell_type": "code",
      "metadata": {
        "id": "fZjhdSUNSuXC",
        "colab_type": "code",
        "colab": {
          "base_uri": "https://localhost:8080/",
          "height": 1000
        },
        "outputId": "39b6a8e7-9e9b-4239-8d1e-5519f7b16087"
      },
      "source": [
        "regress.fit(X_train,y_train,epochs=200,batch_size=25)"
      ],
      "execution_count": 50,
      "outputs": [
        {
          "output_type": "stream",
          "text": [
            "Train on 39 samples\n",
            "Epoch 1/200\n",
            "39/39 [==============================] - 4s 106ms/sample - loss: 0.3261\n",
            "Epoch 2/200\n",
            "39/39 [==============================] - 0s 683us/sample - loss: 0.1315\n",
            "Epoch 3/200\n",
            "39/39 [==============================] - 0s 676us/sample - loss: 0.1014\n",
            "Epoch 4/200\n",
            "39/39 [==============================] - 0s 633us/sample - loss: 0.0421\n",
            "Epoch 5/200\n",
            "39/39 [==============================] - 0s 647us/sample - loss: 0.0662\n",
            "Epoch 6/200\n",
            "39/39 [==============================] - 0s 643us/sample - loss: 0.0616\n",
            "Epoch 7/200\n",
            "39/39 [==============================] - 0s 737us/sample - loss: 0.0466\n",
            "Epoch 8/200\n",
            "39/39 [==============================] - 0s 765us/sample - loss: 0.0528\n",
            "Epoch 9/200\n",
            "39/39 [==============================] - 0s 794us/sample - loss: 0.0470\n",
            "Epoch 10/200\n",
            "39/39 [==============================] - 0s 763us/sample - loss: 0.0417\n",
            "Epoch 11/200\n",
            "39/39 [==============================] - 0s 680us/sample - loss: 0.0460\n",
            "Epoch 12/200\n",
            "39/39 [==============================] - 0s 644us/sample - loss: 0.0484\n",
            "Epoch 13/200\n",
            "39/39 [==============================] - 0s 639us/sample - loss: 0.0382\n",
            "Epoch 14/200\n",
            "39/39 [==============================] - 0s 649us/sample - loss: 0.0456\n",
            "Epoch 15/200\n",
            "39/39 [==============================] - 0s 827us/sample - loss: 0.0494\n",
            "Epoch 16/200\n",
            "39/39 [==============================] - 0s 830us/sample - loss: 0.0406\n",
            "Epoch 17/200\n",
            "39/39 [==============================] - 0s 924us/sample - loss: 0.0485\n",
            "Epoch 18/200\n",
            "39/39 [==============================] - 0s 825us/sample - loss: 0.0438\n",
            "Epoch 19/200\n",
            "39/39 [==============================] - 0s 816us/sample - loss: 0.0456\n",
            "Epoch 20/200\n",
            "39/39 [==============================] - 0s 658us/sample - loss: 0.0404\n",
            "Epoch 21/200\n",
            "39/39 [==============================] - 0s 689us/sample - loss: 0.0449\n",
            "Epoch 22/200\n",
            "39/39 [==============================] - 0s 800us/sample - loss: 0.0419\n",
            "Epoch 23/200\n",
            "39/39 [==============================] - 0s 792us/sample - loss: 0.0374\n",
            "Epoch 24/200\n",
            "39/39 [==============================] - 0s 714us/sample - loss: 0.0380\n",
            "Epoch 25/200\n",
            "39/39 [==============================] - 0s 732us/sample - loss: 0.0405\n",
            "Epoch 26/200\n",
            "39/39 [==============================] - 0s 710us/sample - loss: 0.0396\n",
            "Epoch 27/200\n",
            "39/39 [==============================] - 0s 670us/sample - loss: 0.0406\n",
            "Epoch 28/200\n",
            "39/39 [==============================] - 0s 762us/sample - loss: 0.0413\n",
            "Epoch 29/200\n",
            "39/39 [==============================] - 0s 703us/sample - loss: 0.0426\n",
            "Epoch 30/200\n",
            "39/39 [==============================] - 0s 781us/sample - loss: 0.0420\n",
            "Epoch 31/200\n",
            "39/39 [==============================] - 0s 607us/sample - loss: 0.0461\n",
            "Epoch 32/200\n",
            "39/39 [==============================] - 0s 726us/sample - loss: 0.0445\n",
            "Epoch 33/200\n",
            "39/39 [==============================] - 0s 710us/sample - loss: 0.0378\n",
            "Epoch 34/200\n",
            "39/39 [==============================] - 0s 690us/sample - loss: 0.0412\n",
            "Epoch 35/200\n",
            "39/39 [==============================] - 0s 741us/sample - loss: 0.0402\n",
            "Epoch 36/200\n",
            "39/39 [==============================] - 0s 715us/sample - loss: 0.0455\n",
            "Epoch 37/200\n",
            "39/39 [==============================] - 0s 685us/sample - loss: 0.0416\n",
            "Epoch 38/200\n",
            "39/39 [==============================] - 0s 660us/sample - loss: 0.0428\n",
            "Epoch 39/200\n",
            "39/39 [==============================] - 0s 697us/sample - loss: 0.0378\n",
            "Epoch 40/200\n",
            "39/39 [==============================] - 0s 762us/sample - loss: 0.0395\n",
            "Epoch 41/200\n",
            "39/39 [==============================] - 0s 757us/sample - loss: 0.0399\n",
            "Epoch 42/200\n",
            "39/39 [==============================] - 0s 791us/sample - loss: 0.0386\n",
            "Epoch 43/200\n",
            "39/39 [==============================] - 0s 871us/sample - loss: 0.0431\n",
            "Epoch 44/200\n",
            "39/39 [==============================] - 0s 716us/sample - loss: 0.0385\n",
            "Epoch 45/200\n",
            "39/39 [==============================] - 0s 597us/sample - loss: 0.0390\n",
            "Epoch 46/200\n",
            "39/39 [==============================] - 0s 676us/sample - loss: 0.0353\n",
            "Epoch 47/200\n",
            "39/39 [==============================] - 0s 722us/sample - loss: 0.0368\n",
            "Epoch 48/200\n",
            "39/39 [==============================] - 0s 679us/sample - loss: 0.0393\n",
            "Epoch 49/200\n",
            "39/39 [==============================] - 0s 757us/sample - loss: 0.0407\n",
            "Epoch 50/200\n",
            "39/39 [==============================] - 0s 637us/sample - loss: 0.0395\n",
            "Epoch 51/200\n",
            "39/39 [==============================] - 0s 698us/sample - loss: 0.0355\n",
            "Epoch 52/200\n",
            "39/39 [==============================] - 0s 679us/sample - loss: 0.0371\n",
            "Epoch 53/200\n",
            "39/39 [==============================] - 0s 833us/sample - loss: 0.0381\n",
            "Epoch 54/200\n",
            "39/39 [==============================] - 0s 827us/sample - loss: 0.0342\n",
            "Epoch 55/200\n",
            "39/39 [==============================] - 0s 632us/sample - loss: 0.0400\n",
            "Epoch 56/200\n",
            "39/39 [==============================] - 0s 685us/sample - loss: 0.0320\n",
            "Epoch 57/200\n",
            "39/39 [==============================] - 0s 729us/sample - loss: 0.0351\n",
            "Epoch 58/200\n",
            "39/39 [==============================] - 0s 741us/sample - loss: 0.0356\n",
            "Epoch 59/200\n",
            "39/39 [==============================] - 0s 629us/sample - loss: 0.0329\n",
            "Epoch 60/200\n",
            "39/39 [==============================] - 0s 694us/sample - loss: 0.0367\n",
            "Epoch 61/200\n",
            "39/39 [==============================] - 0s 709us/sample - loss: 0.0355\n",
            "Epoch 62/200\n",
            "39/39 [==============================] - 0s 724us/sample - loss: 0.0380\n",
            "Epoch 63/200\n",
            "39/39 [==============================] - 0s 713us/sample - loss: 0.0365\n",
            "Epoch 64/200\n",
            "39/39 [==============================] - 0s 658us/sample - loss: 0.0329\n",
            "Epoch 65/200\n",
            "39/39 [==============================] - 0s 665us/sample - loss: 0.0376\n",
            "Epoch 66/200\n",
            "39/39 [==============================] - 0s 736us/sample - loss: 0.0321\n",
            "Epoch 67/200\n",
            "39/39 [==============================] - 0s 717us/sample - loss: 0.0340\n",
            "Epoch 68/200\n",
            "39/39 [==============================] - 0s 856us/sample - loss: 0.0389\n",
            "Epoch 69/200\n",
            "39/39 [==============================] - 0s 718us/sample - loss: 0.0392\n",
            "Epoch 70/200\n",
            "39/39 [==============================] - 0s 695us/sample - loss: 0.0457\n",
            "Epoch 71/200\n",
            "39/39 [==============================] - 0s 635us/sample - loss: 0.0311\n",
            "Epoch 72/200\n",
            "39/39 [==============================] - 0s 715us/sample - loss: 0.0464\n",
            "Epoch 73/200\n",
            "39/39 [==============================] - 0s 680us/sample - loss: 0.0401\n",
            "Epoch 74/200\n",
            "39/39 [==============================] - 0s 756us/sample - loss: 0.0396\n",
            "Epoch 75/200\n",
            "39/39 [==============================] - 0s 666us/sample - loss: 0.0343\n",
            "Epoch 76/200\n",
            "39/39 [==============================] - 0s 710us/sample - loss: 0.0493\n",
            "Epoch 77/200\n",
            "39/39 [==============================] - 0s 779us/sample - loss: 0.0372\n",
            "Epoch 78/200\n",
            "39/39 [==============================] - 0s 680us/sample - loss: 0.0457\n",
            "Epoch 79/200\n",
            "39/39 [==============================] - 0s 831us/sample - loss: 0.0394\n",
            "Epoch 80/200\n",
            "39/39 [==============================] - 0s 728us/sample - loss: 0.0453\n",
            "Epoch 81/200\n",
            "39/39 [==============================] - 0s 822us/sample - loss: 0.0421\n",
            "Epoch 82/200\n",
            "39/39 [==============================] - 0s 772us/sample - loss: 0.0354\n",
            "Epoch 83/200\n",
            "39/39 [==============================] - 0s 761us/sample - loss: 0.0365\n",
            "Epoch 84/200\n",
            "39/39 [==============================] - 0s 757us/sample - loss: 0.0330\n",
            "Epoch 85/200\n",
            "39/39 [==============================] - 0s 736us/sample - loss: 0.0393\n",
            "Epoch 86/200\n",
            "39/39 [==============================] - 0s 743us/sample - loss: 0.0354\n",
            "Epoch 87/200\n",
            "39/39 [==============================] - 0s 734us/sample - loss: 0.0351\n",
            "Epoch 88/200\n",
            "39/39 [==============================] - 0s 650us/sample - loss: 0.0352\n",
            "Epoch 89/200\n",
            "39/39 [==============================] - 0s 622us/sample - loss: 0.0427\n",
            "Epoch 90/200\n",
            "39/39 [==============================] - 0s 709us/sample - loss: 0.0333\n",
            "Epoch 91/200\n",
            "39/39 [==============================] - 0s 717us/sample - loss: 0.0335\n",
            "Epoch 92/200\n",
            "39/39 [==============================] - 0s 854us/sample - loss: 0.0408\n",
            "Epoch 93/200\n",
            "39/39 [==============================] - 0s 760us/sample - loss: 0.0325\n",
            "Epoch 94/200\n",
            "39/39 [==============================] - 0s 706us/sample - loss: 0.0324\n",
            "Epoch 95/200\n",
            "39/39 [==============================] - 0s 699us/sample - loss: 0.0299\n",
            "Epoch 96/200\n",
            "39/39 [==============================] - 0s 628us/sample - loss: 0.0353\n",
            "Epoch 97/200\n",
            "39/39 [==============================] - 0s 742us/sample - loss: 0.0346\n",
            "Epoch 98/200\n",
            "39/39 [==============================] - 0s 723us/sample - loss: 0.0303\n",
            "Epoch 99/200\n",
            "39/39 [==============================] - 0s 694us/sample - loss: 0.0292\n",
            "Epoch 100/200\n",
            "39/39 [==============================] - 0s 700us/sample - loss: 0.0304\n",
            "Epoch 101/200\n",
            "39/39 [==============================] - 0s 660us/sample - loss: 0.0384\n",
            "Epoch 102/200\n",
            "39/39 [==============================] - 0s 658us/sample - loss: 0.0304\n",
            "Epoch 103/200\n",
            "39/39 [==============================] - 0s 743us/sample - loss: 0.0342\n",
            "Epoch 104/200\n",
            "39/39 [==============================] - 0s 851us/sample - loss: 0.0351\n",
            "Epoch 105/200\n",
            "39/39 [==============================] - 0s 720us/sample - loss: 0.0286\n",
            "Epoch 106/200\n",
            "39/39 [==============================] - 0s 680us/sample - loss: 0.0277\n",
            "Epoch 107/200\n",
            "39/39 [==============================] - 0s 748us/sample - loss: 0.0330\n",
            "Epoch 108/200\n",
            "39/39 [==============================] - 0s 751us/sample - loss: 0.0349\n",
            "Epoch 109/200\n",
            "39/39 [==============================] - 0s 700us/sample - loss: 0.0330\n",
            "Epoch 110/200\n",
            "39/39 [==============================] - 0s 792us/sample - loss: 0.0346\n",
            "Epoch 111/200\n",
            "39/39 [==============================] - 0s 696us/sample - loss: 0.0332\n",
            "Epoch 112/200\n",
            "39/39 [==============================] - 0s 755us/sample - loss: 0.0313\n",
            "Epoch 113/200\n",
            "39/39 [==============================] - 0s 748us/sample - loss: 0.0270\n",
            "Epoch 114/200\n",
            "39/39 [==============================] - 0s 776us/sample - loss: 0.0303\n",
            "Epoch 115/200\n",
            "39/39 [==============================] - 0s 670us/sample - loss: 0.0274\n",
            "Epoch 116/200\n",
            "39/39 [==============================] - 0s 731us/sample - loss: 0.0373\n",
            "Epoch 117/200\n",
            "39/39 [==============================] - 0s 687us/sample - loss: 0.0308\n",
            "Epoch 118/200\n",
            "39/39 [==============================] - 0s 703us/sample - loss: 0.0347\n",
            "Epoch 119/200\n",
            "39/39 [==============================] - 0s 700us/sample - loss: 0.0304\n",
            "Epoch 120/200\n",
            "39/39 [==============================] - 0s 617us/sample - loss: 0.0361\n",
            "Epoch 121/200\n",
            "39/39 [==============================] - 0s 629us/sample - loss: 0.0323\n",
            "Epoch 122/200\n",
            "39/39 [==============================] - 0s 624us/sample - loss: 0.0318\n",
            "Epoch 123/200\n",
            "39/39 [==============================] - 0s 749us/sample - loss: 0.0334\n",
            "Epoch 124/200\n",
            "39/39 [==============================] - 0s 676us/sample - loss: 0.0342\n",
            "Epoch 125/200\n",
            "39/39 [==============================] - 0s 679us/sample - loss: 0.0319\n",
            "Epoch 126/200\n",
            "39/39 [==============================] - 0s 701us/sample - loss: 0.0292\n",
            "Epoch 127/200\n",
            "39/39 [==============================] - 0s 834us/sample - loss: 0.0275\n",
            "Epoch 128/200\n",
            "39/39 [==============================] - 0s 702us/sample - loss: 0.0302\n",
            "Epoch 129/200\n",
            "39/39 [==============================] - 0s 700us/sample - loss: 0.0269\n",
            "Epoch 130/200\n",
            "39/39 [==============================] - 0s 649us/sample - loss: 0.0313\n",
            "Epoch 131/200\n",
            "39/39 [==============================] - 0s 683us/sample - loss: 0.0278\n",
            "Epoch 132/200\n",
            "39/39 [==============================] - 0s 664us/sample - loss: 0.0325\n",
            "Epoch 133/200\n",
            "39/39 [==============================] - 0s 682us/sample - loss: 0.0314\n",
            "Epoch 134/200\n",
            "39/39 [==============================] - 0s 681us/sample - loss: 0.0301\n",
            "Epoch 135/200\n",
            "39/39 [==============================] - 0s 664us/sample - loss: 0.0264\n",
            "Epoch 136/200\n",
            "39/39 [==============================] - 0s 766us/sample - loss: 0.0290\n",
            "Epoch 137/200\n",
            "39/39 [==============================] - 0s 653us/sample - loss: 0.0283\n",
            "Epoch 138/200\n",
            "39/39 [==============================] - 0s 665us/sample - loss: 0.0345\n",
            "Epoch 139/200\n",
            "39/39 [==============================] - 0s 687us/sample - loss: 0.0326\n",
            "Epoch 140/200\n",
            "39/39 [==============================] - 0s 665us/sample - loss: 0.0316\n",
            "Epoch 141/200\n",
            "39/39 [==============================] - 0s 700us/sample - loss: 0.0256\n",
            "Epoch 142/200\n",
            "39/39 [==============================] - 0s 696us/sample - loss: 0.0288\n",
            "Epoch 143/200\n",
            "39/39 [==============================] - 0s 657us/sample - loss: 0.0277\n",
            "Epoch 144/200\n",
            "39/39 [==============================] - 0s 709us/sample - loss: 0.0265\n",
            "Epoch 145/200\n",
            "39/39 [==============================] - 0s 650us/sample - loss: 0.0295\n",
            "Epoch 146/200\n",
            "39/39 [==============================] - 0s 686us/sample - loss: 0.0233\n",
            "Epoch 147/200\n",
            "39/39 [==============================] - 0s 672us/sample - loss: 0.0305\n",
            "Epoch 148/200\n",
            "39/39 [==============================] - 0s 647us/sample - loss: 0.0289\n",
            "Epoch 149/200\n",
            "39/39 [==============================] - 0s 721us/sample - loss: 0.0309\n",
            "Epoch 150/200\n",
            "39/39 [==============================] - 0s 719us/sample - loss: 0.0266\n",
            "Epoch 151/200\n",
            "39/39 [==============================] - 0s 865us/sample - loss: 0.0326\n",
            "Epoch 152/200\n",
            "39/39 [==============================] - 0s 760us/sample - loss: 0.0353\n",
            "Epoch 153/200\n",
            "39/39 [==============================] - 0s 713us/sample - loss: 0.0363\n",
            "Epoch 154/200\n",
            "39/39 [==============================] - 0s 649us/sample - loss: 0.0278\n",
            "Epoch 155/200\n",
            "39/39 [==============================] - 0s 714us/sample - loss: 0.0288\n",
            "Epoch 156/200\n",
            "39/39 [==============================] - 0s 677us/sample - loss: 0.0350\n",
            "Epoch 157/200\n",
            "39/39 [==============================] - 0s 686us/sample - loss: 0.0336\n",
            "Epoch 158/200\n",
            "39/39 [==============================] - 0s 623us/sample - loss: 0.0251\n",
            "Epoch 159/200\n",
            "39/39 [==============================] - 0s 656us/sample - loss: 0.0309\n",
            "Epoch 160/200\n",
            "39/39 [==============================] - 0s 705us/sample - loss: 0.0322\n",
            "Epoch 161/200\n",
            "39/39 [==============================] - 0s 683us/sample - loss: 0.0236\n",
            "Epoch 162/200\n",
            "39/39 [==============================] - 0s 707us/sample - loss: 0.0231\n",
            "Epoch 163/200\n",
            "39/39 [==============================] - 0s 859us/sample - loss: 0.0313\n",
            "Epoch 164/200\n",
            "39/39 [==============================] - 0s 805us/sample - loss: 0.0317\n",
            "Epoch 165/200\n",
            "39/39 [==============================] - 0s 619us/sample - loss: 0.0245\n",
            "Epoch 166/200\n",
            "39/39 [==============================] - 0s 654us/sample - loss: 0.0288\n",
            "Epoch 167/200\n",
            "39/39 [==============================] - 0s 686us/sample - loss: 0.0273\n",
            "Epoch 168/200\n",
            "39/39 [==============================] - 0s 691us/sample - loss: 0.0265\n",
            "Epoch 169/200\n",
            "39/39 [==============================] - 0s 657us/sample - loss: 0.0290\n",
            "Epoch 170/200\n",
            "39/39 [==============================] - 0s 665us/sample - loss: 0.0291\n",
            "Epoch 171/200\n",
            "39/39 [==============================] - 0s 693us/sample - loss: 0.0289\n",
            "Epoch 172/200\n",
            "39/39 [==============================] - 0s 722us/sample - loss: 0.0254\n",
            "Epoch 173/200\n",
            "39/39 [==============================] - 0s 699us/sample - loss: 0.0289\n",
            "Epoch 174/200\n",
            "39/39 [==============================] - 0s 858us/sample - loss: 0.0241\n",
            "Epoch 175/200\n",
            "39/39 [==============================] - 0s 854us/sample - loss: 0.0278\n",
            "Epoch 176/200\n",
            "39/39 [==============================] - 0s 628us/sample - loss: 0.0230\n",
            "Epoch 177/200\n",
            "39/39 [==============================] - 0s 628us/sample - loss: 0.0261\n",
            "Epoch 178/200\n",
            "39/39 [==============================] - 0s 721us/sample - loss: 0.0236\n",
            "Epoch 179/200\n",
            "39/39 [==============================] - 0s 734us/sample - loss: 0.0236\n",
            "Epoch 180/200\n",
            "39/39 [==============================] - 0s 695us/sample - loss: 0.0270\n",
            "Epoch 181/200\n",
            "39/39 [==============================] - 0s 721us/sample - loss: 0.0199\n",
            "Epoch 182/200\n",
            "39/39 [==============================] - 0s 678us/sample - loss: 0.0240\n",
            "Epoch 183/200\n",
            "39/39 [==============================] - 0s 787us/sample - loss: 0.0260\n",
            "Epoch 184/200\n",
            "39/39 [==============================] - 0s 729us/sample - loss: 0.0267\n",
            "Epoch 185/200\n",
            "39/39 [==============================] - 0s 800us/sample - loss: 0.0258\n",
            "Epoch 186/200\n",
            "39/39 [==============================] - 0s 795us/sample - loss: 0.0268\n",
            "Epoch 187/200\n",
            "39/39 [==============================] - 0s 818us/sample - loss: 0.0216\n",
            "Epoch 188/200\n",
            "39/39 [==============================] - 0s 765us/sample - loss: 0.0201\n",
            "Epoch 189/200\n",
            "39/39 [==============================] - 0s 675us/sample - loss: 0.0207\n",
            "Epoch 190/200\n",
            "39/39 [==============================] - 0s 695us/sample - loss: 0.0233\n",
            "Epoch 191/200\n",
            "39/39 [==============================] - 0s 673us/sample - loss: 0.0277\n",
            "Epoch 192/200\n",
            "39/39 [==============================] - 0s 632us/sample - loss: 0.0233\n",
            "Epoch 193/200\n",
            "39/39 [==============================] - 0s 674us/sample - loss: 0.0255\n",
            "Epoch 194/200\n",
            "39/39 [==============================] - 0s 684us/sample - loss: 0.0240\n",
            "Epoch 195/200\n",
            "39/39 [==============================] - 0s 653us/sample - loss: 0.0251\n",
            "Epoch 196/200\n",
            "39/39 [==============================] - 0s 735us/sample - loss: 0.0268\n",
            "Epoch 197/200\n",
            "39/39 [==============================] - 0s 639us/sample - loss: 0.0250\n",
            "Epoch 198/200\n",
            "39/39 [==============================] - 0s 1ms/sample - loss: 0.0242\n",
            "Epoch 199/200\n",
            "39/39 [==============================] - 0s 582us/sample - loss: 0.0247\n",
            "Epoch 200/200\n",
            "39/39 [==============================] - 0s 707us/sample - loss: 0.0233\n"
          ],
          "name": "stdout"
        },
        {
          "output_type": "execute_result",
          "data": {
            "text/plain": [
              "<tensorflow.python.keras.callbacks.History at 0x7fabf76aee80>"
            ]
          },
          "metadata": {
            "tags": []
          },
          "execution_count": 50
        }
      ]
    },
    {
      "cell_type": "code",
      "metadata": {
        "id": "B368JWquTqfE",
        "colab_type": "code",
        "colab": {
          "base_uri": "https://localhost:8080/",
          "height": 35
        },
        "outputId": "73327204-ba7f-48b3-f4e7-eed4e0b7b5ed"
      },
      "source": [
        "print(len(data_test))\n",
        "data_total=pd.concat((data_train['capacity'], data_test['capacity']),axis=0)\n",
        "inputs=data_total[len(data_total)-len(data_test)-10:].values\n",
        "inputs=inputs.reshape(-1,1)\n",
        "inputs=sc.transform(inputs)"
      ],
      "execution_count": 55,
      "outputs": [
        {
          "output_type": "stream",
          "text": [
            "119\n"
          ],
          "name": "stdout"
        }
      ]
    },
    {
      "cell_type": "code",
      "metadata": {
        "id": "hzjs6g9NU7g2",
        "colab_type": "code",
        "colab": {
          "base_uri": "https://localhost:8080/",
          "height": 71
        },
        "outputId": "65f18c09-583a-40a2-8be9-73ff933eb091"
      },
      "source": [
        "X_test=[]\n",
        "for i in range(10,129):\n",
        "    X_test.append(inputs[i-10:i,0])\n",
        "X_test=np.array(X_test)\n",
        "X_test=np.reshape(X_test,(X_test.shape[0],X_test.shape[1],1))\n",
        "pred=regress.predict(X_test)\n",
        "print(pred.shape)\n",
        "pred=sc.inverse_transform(pred)\n",
        "pred=pred[:,0]\n",
        "tests=data_test.iloc[:,1:2]\n",
        "rmse = np.sqrt(mean_squared_error(tests, pred))\n",
        "print('Test RMSE: %.3f' % rmse)\n",
        "metrics.r2_score(tests,pred)"
      ],
      "execution_count": 56,
      "outputs": [
        {
          "output_type": "stream",
          "text": [
            "(119, 1)\n",
            "Test RMSE: 0.050\n"
          ],
          "name": "stdout"
        },
        {
          "output_type": "execute_result",
          "data": {
            "text/plain": [
              "0.8655908035539039"
            ]
          },
          "metadata": {
            "tags": []
          },
          "execution_count": 56
        }
      ]
    },
    {
      "cell_type": "markdown",
      "metadata": {
        "id": "UsB6GPDdJcMq",
        "colab_type": "text"
      },
      "source": [
        "Como se puede observar, el RMSE medio es de 0.05 (5%) el cual se acerca mucho a los valores que la literatura observa haciendo uso de este tipo de redes."
      ]
    },
    {
      "cell_type": "code",
      "metadata": {
        "id": "FX6kJsXNbDhV",
        "colab_type": "code",
        "colab": {
          "base_uri": "https://localhost:8080/",
          "height": 747
        },
        "outputId": "c366432a-2629-48d4-aea4-4fb666ca0013"
      },
      "source": [
        "ln = len(data_train)\n",
        "data_test['pre']=pred\n",
        "plot_df = dataset.loc[(dataset['cycle']>=1),['cycle','capacity']]\n",
        "plot_per = data_test.loc[(data_test['cycle']>=ln),['cycle','pre']]\n",
        "plt.figure(figsize=(16, 10))\n",
        "plt.plot(plot_df['cycle'], plot_df['capacity'], label=\"Actual data\", color='blue')\n",
        "plt.plot(plot_per['cycle'],plot_per['pre'],label=\"Prediction data\", color='red')\n",
        "#Draw threshold\n",
        "plt.plot([0.,168], [1.38, 1.38],dashes=[6, 2], label=\"treshold\")\n",
        "plt.ylabel('Capacity')\n",
        "# make x-axis ticks legible\n",
        "adf = plt.gca().get_xaxis().get_major_formatter()\n",
        "plt.xlabel('cycle')\n",
        "plt.legend()\n",
        "plt.title('Discharge B0005 (prediction) start in cycle 50 -RULe=-8, window-size=10')"
      ],
      "execution_count": 57,
      "outputs": [
        {
          "output_type": "stream",
          "text": [
            "/usr/local/lib/python3.6/dist-packages/ipykernel_launcher.py:2: SettingWithCopyWarning: \n",
            "A value is trying to be set on a copy of a slice from a DataFrame.\n",
            "Try using .loc[row_indexer,col_indexer] = value instead\n",
            "\n",
            "See the caveats in the documentation: http://pandas.pydata.org/pandas-docs/stable/user_guide/indexing.html#returning-a-view-versus-a-copy\n",
            "  \n"
          ],
          "name": "stderr"
        },
        {
          "output_type": "execute_result",
          "data": {
            "text/plain": [
              "Text(0.5, 1.0, 'Discharge B0005 (prediction) start in cycle 50 -RULe=-8, window-size=10')"
            ]
          },
          "metadata": {
            "tags": []
          },
          "execution_count": 57
        },
        {
          "output_type": "display_data",
          "data": {
            "image/png": "[encoded data removed]",
            "text/plain": [
              "<Figure size 1152x720 with 1 Axes>"
            ]
          },
          "metadata": {
            "tags": []
          }
        }
      ]
    },
    {
      "cell_type": "markdown",
      "metadata": {
        "id": "-UPhiUrpJpDo",
        "colab_type": "text"
      },
      "source": [
        "Finalmente, se puede apreciar en la gráfica que el valor de la capacidad y como se comporta a travéz del tiempo es muy cercano al valor real y apoyando estos datos, el error en la estimación del RUL fue de -8 el cual nos hace entender que el modelo se adelantó en 8 ciclos a estimar que la bateria llegó a su fin de ciclo de vida."
      ]
    },
    {
      "cell_type": "code",
      "metadata": {
        "id": "94E_HiQsvyPS",
        "colab_type": "code",
        "colab": {
          "base_uri": "https://localhost:8080/",
          "height": 71
        },
        "outputId": "c4498e84-2ca4-4032-bcd3-fa7ff64c0629"
      },
      "source": [
        "pred=0\n",
        "Afil=0\n",
        "Pfil=0\n",
        "a=data_test['capacity'].values\n",
        "b=data_test['pre'].values\n",
        "j=0\n",
        "k=0\n",
        "for i in range(len(a)):\n",
        "    actual=a[i]\n",
        "    \n",
        "    if actual<=1.38:\n",
        "        j=i\n",
        "        Afil=j\n",
        "        break\n",
        "for i in range(len(a)):\n",
        "    pred=b[i]\n",
        "    if pred< 1.38:\n",
        "        k=i\n",
        "        Pfil=k\n",
        "        break\n",
        "print(\"The Actual fail at cycle number: \"+ str(Afil+ln))\n",
        "print(\"The prediction fail at cycle number: \"+ str(Pfil+ln))\n",
        "RULerror=Pfil-Afil\n",
        "print(\"The error of RUL= \"+ str(RULerror)+ \" Cycle(s)\")"
      ],
      "execution_count": 58,
      "outputs": [
        {
          "output_type": "stream",
          "text": [
            "The Actual fail at cycle number: 128\n",
            "The prediction fail at cycle number: 120\n",
            "The error of RUL= -8 Cycle(s)\n"
          ],
          "name": "stdout"
        }
      ]
    },
    {
      "cell_type": "markdown",
      "metadata": {
        "id": "CfDWx1VWKg-7",
        "colab_type": "text"
      },
      "source": [
        "## Bibliografía\n",
        "[1] P. Khumprom and N. Yodo, “A data-driven predictive prognostic model for lithium-ion batteries based on a deep learning algorithm,” Energies, vol. 12, no. 4, 2019.\n",
        "\n",
        "[2] C. Wang, N. Lu, S. Wang, Y. Cheng, and B. Jiang, “Dynamic long short-term memory neural-network- based indirect remaining-useful-life prognosis for satellite Lithium-ion battery,” Appl. Sci., vol. 8, no. 11, 2018.\n",
        "\n",
        "[3] Parte del código utilizado está basado en: https://github.com/Kalrfou/CapstoneProject"
      ]
    }
  ]
}